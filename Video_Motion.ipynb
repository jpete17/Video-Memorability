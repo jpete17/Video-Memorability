{
  "nbformat": 4,
  "nbformat_minor": 0,
  "metadata": {
    "colab": {
      "name": "Video Motion.ipynb",
      "provenance": [],
      "collapsed_sections": [
        "NHK4mPscBHG2",
        "GAQCGsj2BNyh",
        "2_V7nxgTB0gt",
        "S6Nqfz4v7f9Z",
        "hSxf7SFcA39_"
      ]
    },
    "kernelspec": {
      "name": "python3",
      "display_name": "Python 3"
    }
  },
  "cells": [
    {
      "cell_type": "markdown",
      "metadata": {
        "id": "iUlQHS4KA5Qj",
        "colab_type": "text"
      },
      "source": [
        "# HMP an C3D features - Human/object motion proposition\n",
        " Mount Google drive to Read Files"
      ]
    },
    {
      "cell_type": "code",
      "metadata": {
        "id": "m0_uYcXk9-eE",
        "colab_type": "code",
        "colab": {
          "base_uri": "https://localhost:8080/",
          "height": 121
        },
        "outputId": "c0a0af74-0942-4f4f-b7eb-bb77eb858237"
      },
      "source": [
        "from google.colab import drive\n",
        "drive.mount('/content/drive/')\n",
        "\n",
        "import os\n",
        "os.chdir(\"/content/drive/My Drive/\")"
      ],
      "execution_count": 1,
      "outputs": [
        {
          "output_type": "stream",
          "text": [
            "Go to this URL in a browser: https://accounts.google.com/o/oauth2/auth?client_id=947318989803-6bn6qk8qdgf4n4g3pfee6491hc0brc4i.apps.googleusercontent.com&redirect_uri=urn%3aietf%3awg%3aoauth%3a2.0%3aoob&response_type=code&scope=email%20https%3a%2f%2fwww.googleapis.com%2fauth%2fdocs.test%20https%3a%2f%2fwww.googleapis.com%2fauth%2fdrive%20https%3a%2f%2fwww.googleapis.com%2fauth%2fdrive.photos.readonly%20https%3a%2f%2fwww.googleapis.com%2fauth%2fpeopleapi.readonly\n",
            "\n",
            "Enter your authorization code:\n",
            "··········\n",
            "Mounted at /content/drive/\n"
          ],
          "name": "stdout"
        }
      ]
    },
    {
      "cell_type": "markdown",
      "metadata": {
        "id": "d3ZtODUZBCWk",
        "colab_type": "text"
      },
      "source": [
        "### Method to calcualte spearman's Correlation Coefficient"
      ]
    },
    {
      "cell_type": "code",
      "metadata": {
        "id": "CBVmEUoY-LCB",
        "colab_type": "code",
        "colab": {}
      },
      "source": [
        "def Get_score(Y_pred,Y_true):\n",
        "    '''Calculate the Spearmann\"s correlation coefficient'''\n",
        "    Y_pred = np.squeeze(Y_pred)\n",
        "    Y_true = np.squeeze(Y_true)\n",
        "    if Y_pred.shape != Y_true.shape:\n",
        "        print('Input shapes don\\'t match!')\n",
        "    else:\n",
        "        if len(Y_pred.shape) == 1:\n",
        "            Res = pd.DataFrame({'Y_true':Y_true,'Y_pred':Y_pred})\n",
        "            score_mat = Res[['Y_true','Y_pred']].corr(method='spearman',min_periods=1)\n",
        "            print('The Spearman\\'s correlation coefficient is: %.3f' % score_mat.iloc[1][0])\n",
        "        else:\n",
        "            for ii in range(Y_pred.shape[1]):\n",
        "                Get_score(Y_pred[:,ii],Y_true[:,ii])\n"
      ],
      "execution_count": 0,
      "outputs": []
    },
    {
      "cell_type": "markdown",
      "metadata": {
        "id": "NHK4mPscBHG2",
        "colab_type": "text"
      },
      "source": [
        "### Import all necessary libraries"
      ]
    },
    {
      "cell_type": "code",
      "metadata": {
        "id": "woqpkY93-O2p",
        "colab_type": "code",
        "colab": {}
      },
      "source": [
        "import numpy as np\n",
        "import pandas as pd\n",
        "from string import punctuation\n",
        "from collections import Counter\n",
        "from sklearn.model_selection import train_test_split\n",
        "import matplotlib.pyplot as plt\n",
        "import itertools \n",
        "import io\n",
        "from sklearn.metrics import mean_squared_error\n",
        "from tensorflow.python.keras import Sequential\n",
        "from tensorflow.python.keras import layers\n",
        "from tensorflow.python.keras import regularizers\n",
        "from tensorflow.python.keras.preprocessing.text import Tokenizer\n",
        "from keras import optimizers\n",
        "\n",
        "from tensorflow.keras.callbacks import EarlyStopping\n",
        "from tensorflow.keras.callbacks import ModelCheckpoint\n",
        "from tensorflow.keras.models import load_model"
      ],
      "execution_count": 0,
      "outputs": []
    },
    {
      "cell_type": "markdown",
      "metadata": {
        "id": "HOLeu3BoBKLt",
        "colab_type": "text"
      },
      "source": [
        "Read the CSV from Drive - Dependant Variables"
      ]
    },
    {
      "cell_type": "code",
      "metadata": {
        "id": "9D678TrN-TT_",
        "colab_type": "code",
        "colab": {}
      },
      "source": [
        "label_path = './Assignment/Dev-set/Ground-truth/'\n",
        "labels=pd.read_csv(label_path+'ground-truth.csv')"
      ],
      "execution_count": 0,
      "outputs": []
    },
    {
      "cell_type": "markdown",
      "metadata": {
        "id": "GAQCGsj2BNyh",
        "colab_type": "text"
      },
      "source": [
        "### To Read HMP features from Drive and store it in local drive"
      ]
    },
    {
      "cell_type": "code",
      "metadata": {
        "id": "KdwKzaXC-YdD",
        "colab_type": "code",
        "colab": {}
      },
      "source": [
        "''' Method to read HMP'''\n",
        "def read_HMP(fpath, fname, HMP_map):\n",
        "    with open(fname) as f:\n",
        "        for line in f:\n",
        "            pairs=line.split()\n",
        "            HMP_temp = { int(p.split(':')[0]) : float(p.split(':')[1]) for p in pairs}\n",
        "    # there are 6075 bins, fill zeros\n",
        "    HMP = np.zeros(6075)\n",
        "    for idx in HMP_temp.keys():\n",
        "        HMP[idx-1] = HMP_temp[idx]            \n",
        "    return HMP"
      ],
      "execution_count": 0,
      "outputs": []
    },
    {
      "cell_type": "code",
      "metadata": {
        "id": "7iZMSvnA-ZeG",
        "colab_type": "code",
        "colab": {}
      },
      "source": [
        "ind = 0\n",
        "video_list = []\n",
        "for i in range(1, 7494):\n",
        "  name = 'video' + str(i) \n",
        "  video_list.append(name)"
      ],
      "execution_count": 0,
      "outputs": []
    },
    {
      "cell_type": "code",
      "metadata": {
        "id": "_Eb9epSF-clb",
        "colab_type": "code",
        "colab": {}
      },
      "source": [
        "!apt install unzip\n",
        "!unzip \"./HMPReal.zip\" -d \"\""
      ],
      "execution_count": 0,
      "outputs": []
    },
    {
      "cell_type": "code",
      "metadata": {
        "id": "crr_BVea-d9v",
        "colab_type": "code",
        "colab": {}
      },
      "source": [
        "HMP_map = {}\n",
        "hmp_arr = np.empty((0,6075), float)\n",
        "# load the captions\n",
        "for filename in video_list:\n",
        "  filename = filename + '.txt'\n",
        "  file_path = './HMP/' + filename\n",
        "  \n",
        "  if(os.path.exists(file_path)):\n",
        "    HMP = read_HMP(file_path, file_path, HMP_map)\n",
        "    hmp_arr= np.vstack([hmp_arr, HMP])"
      ],
      "execution_count": 0,
      "outputs": []
    },
    {
      "cell_type": "code",
      "metadata": {
        "id": "7sVKHSeO-fsc",
        "colab_type": "code",
        "colab": {}
      },
      "source": [
        "column_list = []\n",
        "for i in range(1, 6076):\n",
        "  cname = 'hmp' + str(i)\n",
        "  column_list.append(cname)"
      ],
      "execution_count": 0,
      "outputs": []
    },
    {
      "cell_type": "code",
      "metadata": {
        "id": "J_M75Ow8-hIL",
        "colab_type": "code",
        "colab": {
          "base_uri": "https://localhost:8080/",
          "height": 34
        },
        "outputId": "81d195b2-0b94-47b7-ddb6-9b7fb77c5ff2"
      },
      "source": [
        "len(column_list)"
      ],
      "execution_count": 10,
      "outputs": [
        {
          "output_type": "execute_result",
          "data": {
            "text/plain": [
              "6075"
            ]
          },
          "metadata": {
            "tags": []
          },
          "execution_count": 10
        }
      ]
    },
    {
      "cell_type": "code",
      "metadata": {
        "id": "Fw5IecFf-r7s",
        "colab_type": "code",
        "colab": {}
      },
      "source": [
        "hmp_df = pd.DataFrame(hmp_arr, columns=column_list)\n"
      ],
      "execution_count": 0,
      "outputs": []
    },
    {
      "cell_type": "code",
      "metadata": {
        "id": "a4nBawbs-t28",
        "colab_type": "code",
        "colab": {}
      },
      "source": [
        "hmp_df['video_name'] = aes_mean_df[['name']]"
      ],
      "execution_count": 0,
      "outputs": []
    },
    {
      "cell_type": "code",
      "metadata": {
        "id": "-O78yuKz-vro",
        "colab_type": "code",
        "colab": {}
      },
      "source": [
        "cols = hmp_df.columns.tolist()\n",
        "cols = cols[-1:] + cols[:-1]\n",
        "hmp_df = hmp_df[cols]\n",
        "hm_df_algo = hmp_df.iloc[:, 1:]"
      ],
      "execution_count": 0,
      "outputs": []
    },
    {
      "cell_type": "code",
      "metadata": {
        "id": "2WtY4Ejp-zU6",
        "colab_type": "code",
        "colab": {}
      },
      "source": [
        "hmp_df.to_csv('/content/drive/My Drive/HMP.csv')"
      ],
      "execution_count": 0,
      "outputs": []
    },
    {
      "cell_type": "markdown",
      "metadata": {
        "id": "qszRqiQ8BT7Z",
        "colab_type": "text"
      },
      "source": [
        "### Load HMP from local drive to perfrom Regression"
      ]
    },
    {
      "cell_type": "code",
      "metadata": {
        "id": "7XQs0GjP-1oC",
        "colab_type": "code",
        "colab": {
          "base_uri": "https://localhost:8080/",
          "height": 244
        },
        "outputId": "54a15a4b-1bb7-4523-cf3b-e73c25786bea"
      },
      "source": [
        "hmp_df = pd.read_csv('HMP.csv')\n",
        "hmp_df = hmp_df.iloc[: , 2:]\n",
        "hmp_df = hmp_df.astype(np.float64)\n",
        "hmp_df.head()"
      ],
      "execution_count": 39,
      "outputs": [
        {
          "output_type": "execute_result",
          "data": {
            "text/html": [
              "<div>\n",
              "<style scoped>\n",
              "    .dataframe tbody tr th:only-of-type {\n",
              "        vertical-align: middle;\n",
              "    }\n",
              "\n",
              "    .dataframe tbody tr th {\n",
              "        vertical-align: top;\n",
              "    }\n",
              "\n",
              "    .dataframe thead th {\n",
              "        text-align: right;\n",
              "    }\n",
              "</style>\n",
              "<table border=\"1\" class=\"dataframe\">\n",
              "  <thead>\n",
              "    <tr style=\"text-align: right;\">\n",
              "      <th></th>\n",
              "      <th>hmp1</th>\n",
              "      <th>hmp2</th>\n",
              "      <th>hmp3</th>\n",
              "      <th>hmp4</th>\n",
              "      <th>hmp5</th>\n",
              "      <th>hmp6</th>\n",
              "      <th>hmp7</th>\n",
              "      <th>hmp8</th>\n",
              "      <th>hmp9</th>\n",
              "      <th>hmp10</th>\n",
              "      <th>hmp11</th>\n",
              "      <th>hmp12</th>\n",
              "      <th>hmp13</th>\n",
              "      <th>hmp14</th>\n",
              "      <th>hmp15</th>\n",
              "      <th>hmp16</th>\n",
              "      <th>hmp17</th>\n",
              "      <th>hmp18</th>\n",
              "      <th>hmp19</th>\n",
              "      <th>hmp20</th>\n",
              "      <th>hmp21</th>\n",
              "      <th>hmp22</th>\n",
              "      <th>hmp23</th>\n",
              "      <th>hmp24</th>\n",
              "      <th>hmp25</th>\n",
              "      <th>hmp26</th>\n",
              "      <th>hmp27</th>\n",
              "      <th>hmp28</th>\n",
              "      <th>hmp29</th>\n",
              "      <th>hmp30</th>\n",
              "      <th>hmp31</th>\n",
              "      <th>hmp32</th>\n",
              "      <th>hmp33</th>\n",
              "      <th>hmp34</th>\n",
              "      <th>hmp35</th>\n",
              "      <th>hmp36</th>\n",
              "      <th>hmp37</th>\n",
              "      <th>hmp38</th>\n",
              "      <th>hmp39</th>\n",
              "      <th>hmp40</th>\n",
              "      <th>...</th>\n",
              "      <th>hmp6036</th>\n",
              "      <th>hmp6037</th>\n",
              "      <th>hmp6038</th>\n",
              "      <th>hmp6039</th>\n",
              "      <th>hmp6040</th>\n",
              "      <th>hmp6041</th>\n",
              "      <th>hmp6042</th>\n",
              "      <th>hmp6043</th>\n",
              "      <th>hmp6044</th>\n",
              "      <th>hmp6045</th>\n",
              "      <th>hmp6046</th>\n",
              "      <th>hmp6047</th>\n",
              "      <th>hmp6048</th>\n",
              "      <th>hmp6049</th>\n",
              "      <th>hmp6050</th>\n",
              "      <th>hmp6051</th>\n",
              "      <th>hmp6052</th>\n",
              "      <th>hmp6053</th>\n",
              "      <th>hmp6054</th>\n",
              "      <th>hmp6055</th>\n",
              "      <th>hmp6056</th>\n",
              "      <th>hmp6057</th>\n",
              "      <th>hmp6058</th>\n",
              "      <th>hmp6059</th>\n",
              "      <th>hmp6060</th>\n",
              "      <th>hmp6061</th>\n",
              "      <th>hmp6062</th>\n",
              "      <th>hmp6063</th>\n",
              "      <th>hmp6064</th>\n",
              "      <th>hmp6065</th>\n",
              "      <th>hmp6066</th>\n",
              "      <th>hmp6067</th>\n",
              "      <th>hmp6068</th>\n",
              "      <th>hmp6069</th>\n",
              "      <th>hmp6070</th>\n",
              "      <th>hmp6071</th>\n",
              "      <th>hmp6072</th>\n",
              "      <th>hmp6073</th>\n",
              "      <th>hmp6074</th>\n",
              "      <th>hmp6075</th>\n",
              "    </tr>\n",
              "  </thead>\n",
              "  <tbody>\n",
              "    <tr>\n",
              "      <th>0</th>\n",
              "      <td>0.125563</td>\n",
              "      <td>0.024036</td>\n",
              "      <td>0.000314</td>\n",
              "      <td>0.0</td>\n",
              "      <td>0.015864</td>\n",
              "      <td>0.000358</td>\n",
              "      <td>0.0</td>\n",
              "      <td>0.000000</td>\n",
              "      <td>0.000086</td>\n",
              "      <td>0.0</td>\n",
              "      <td>0.0</td>\n",
              "      <td>0.0</td>\n",
              "      <td>0.0</td>\n",
              "      <td>0.002795</td>\n",
              "      <td>0.000054</td>\n",
              "      <td>0.0</td>\n",
              "      <td>0.000000</td>\n",
              "      <td>0.000037</td>\n",
              "      <td>0.0</td>\n",
              "      <td>0.0</td>\n",
              "      <td>0.0</td>\n",
              "      <td>0.0</td>\n",
              "      <td>0.0</td>\n",
              "      <td>0.0</td>\n",
              "      <td>0.0</td>\n",
              "      <td>0.0</td>\n",
              "      <td>0.000005</td>\n",
              "      <td>0.0</td>\n",
              "      <td>0.0</td>\n",
              "      <td>0.0</td>\n",
              "      <td>0.0</td>\n",
              "      <td>0.0</td>\n",
              "      <td>0.0</td>\n",
              "      <td>0.0</td>\n",
              "      <td>0.0</td>\n",
              "      <td>0.0</td>\n",
              "      <td>0.0</td>\n",
              "      <td>0.0</td>\n",
              "      <td>0.0</td>\n",
              "      <td>0.0</td>\n",
              "      <td>...</td>\n",
              "      <td>0.000002</td>\n",
              "      <td>0.000173</td>\n",
              "      <td>0.000459</td>\n",
              "      <td>0.000000</td>\n",
              "      <td>0.000148</td>\n",
              "      <td>0.000104</td>\n",
              "      <td>0.000000</td>\n",
              "      <td>0.000121</td>\n",
              "      <td>0.000551</td>\n",
              "      <td>0.000000</td>\n",
              "      <td>0.000114</td>\n",
              "      <td>0.000884</td>\n",
              "      <td>0.000002</td>\n",
              "      <td>0.000116</td>\n",
              "      <td>0.000077</td>\n",
              "      <td>0.000002</td>\n",
              "      <td>0.000027</td>\n",
              "      <td>0.000136</td>\n",
              "      <td>0.000000</td>\n",
              "      <td>0.000000</td>\n",
              "      <td>0.000002</td>\n",
              "      <td>0.000000</td>\n",
              "      <td>0.000091</td>\n",
              "      <td>0.000035</td>\n",
              "      <td>0.000000</td>\n",
              "      <td>0.000163</td>\n",
              "      <td>0.000467</td>\n",
              "      <td>0.000002</td>\n",
              "      <td>0.000010</td>\n",
              "      <td>0.000017</td>\n",
              "      <td>0.000000</td>\n",
              "      <td>0.000393</td>\n",
              "      <td>0.000279</td>\n",
              "      <td>0.000000</td>\n",
              "      <td>0.000289</td>\n",
              "      <td>0.001926</td>\n",
              "      <td>0.000000</td>\n",
              "      <td>0.000086</td>\n",
              "      <td>0.000580</td>\n",
              "      <td>0.000000</td>\n",
              "    </tr>\n",
              "    <tr>\n",
              "      <th>1</th>\n",
              "      <td>0.007526</td>\n",
              "      <td>0.001421</td>\n",
              "      <td>0.000068</td>\n",
              "      <td>0.0</td>\n",
              "      <td>0.001184</td>\n",
              "      <td>0.000143</td>\n",
              "      <td>0.0</td>\n",
              "      <td>0.000000</td>\n",
              "      <td>0.000079</td>\n",
              "      <td>0.0</td>\n",
              "      <td>0.0</td>\n",
              "      <td>0.0</td>\n",
              "      <td>0.0</td>\n",
              "      <td>0.000246</td>\n",
              "      <td>0.000024</td>\n",
              "      <td>0.0</td>\n",
              "      <td>0.000000</td>\n",
              "      <td>0.000042</td>\n",
              "      <td>0.0</td>\n",
              "      <td>0.0</td>\n",
              "      <td>0.0</td>\n",
              "      <td>0.0</td>\n",
              "      <td>0.0</td>\n",
              "      <td>0.0</td>\n",
              "      <td>0.0</td>\n",
              "      <td>0.0</td>\n",
              "      <td>0.000004</td>\n",
              "      <td>0.0</td>\n",
              "      <td>0.0</td>\n",
              "      <td>0.0</td>\n",
              "      <td>0.0</td>\n",
              "      <td>0.0</td>\n",
              "      <td>0.0</td>\n",
              "      <td>0.0</td>\n",
              "      <td>0.0</td>\n",
              "      <td>0.0</td>\n",
              "      <td>0.0</td>\n",
              "      <td>0.0</td>\n",
              "      <td>0.0</td>\n",
              "      <td>0.0</td>\n",
              "      <td>...</td>\n",
              "      <td>0.000685</td>\n",
              "      <td>0.000308</td>\n",
              "      <td>0.001054</td>\n",
              "      <td>0.000751</td>\n",
              "      <td>0.000176</td>\n",
              "      <td>0.000062</td>\n",
              "      <td>0.000000</td>\n",
              "      <td>0.000123</td>\n",
              "      <td>0.000398</td>\n",
              "      <td>0.000086</td>\n",
              "      <td>0.000246</td>\n",
              "      <td>0.000433</td>\n",
              "      <td>0.000446</td>\n",
              "      <td>0.000143</td>\n",
              "      <td>0.000053</td>\n",
              "      <td>0.000000</td>\n",
              "      <td>0.000053</td>\n",
              "      <td>0.000099</td>\n",
              "      <td>0.000009</td>\n",
              "      <td>0.000004</td>\n",
              "      <td>0.000033</td>\n",
              "      <td>0.000004</td>\n",
              "      <td>0.000051</td>\n",
              "      <td>0.000035</td>\n",
              "      <td>0.000000</td>\n",
              "      <td>0.000062</td>\n",
              "      <td>0.000358</td>\n",
              "      <td>0.000035</td>\n",
              "      <td>0.000024</td>\n",
              "      <td>0.000083</td>\n",
              "      <td>0.000053</td>\n",
              "      <td>0.000244</td>\n",
              "      <td>0.000066</td>\n",
              "      <td>0.000000</td>\n",
              "      <td>0.000081</td>\n",
              "      <td>0.000617</td>\n",
              "      <td>0.000094</td>\n",
              "      <td>0.000220</td>\n",
              "      <td>0.000762</td>\n",
              "      <td>0.001224</td>\n",
              "    </tr>\n",
              "    <tr>\n",
              "      <th>2</th>\n",
              "      <td>0.109584</td>\n",
              "      <td>0.018978</td>\n",
              "      <td>0.000289</td>\n",
              "      <td>0.0</td>\n",
              "      <td>0.008774</td>\n",
              "      <td>0.000208</td>\n",
              "      <td>0.0</td>\n",
              "      <td>0.000002</td>\n",
              "      <td>0.000088</td>\n",
              "      <td>0.0</td>\n",
              "      <td>0.0</td>\n",
              "      <td>0.0</td>\n",
              "      <td>0.0</td>\n",
              "      <td>0.002046</td>\n",
              "      <td>0.000061</td>\n",
              "      <td>0.0</td>\n",
              "      <td>0.000000</td>\n",
              "      <td>0.000038</td>\n",
              "      <td>0.0</td>\n",
              "      <td>0.0</td>\n",
              "      <td>0.0</td>\n",
              "      <td>0.0</td>\n",
              "      <td>0.0</td>\n",
              "      <td>0.0</td>\n",
              "      <td>0.0</td>\n",
              "      <td>0.0</td>\n",
              "      <td>0.000002</td>\n",
              "      <td>0.0</td>\n",
              "      <td>0.0</td>\n",
              "      <td>0.0</td>\n",
              "      <td>0.0</td>\n",
              "      <td>0.0</td>\n",
              "      <td>0.0</td>\n",
              "      <td>0.0</td>\n",
              "      <td>0.0</td>\n",
              "      <td>0.0</td>\n",
              "      <td>0.0</td>\n",
              "      <td>0.0</td>\n",
              "      <td>0.0</td>\n",
              "      <td>0.0</td>\n",
              "      <td>...</td>\n",
              "      <td>0.000083</td>\n",
              "      <td>0.000057</td>\n",
              "      <td>0.000158</td>\n",
              "      <td>0.000073</td>\n",
              "      <td>0.000021</td>\n",
              "      <td>0.000009</td>\n",
              "      <td>0.000002</td>\n",
              "      <td>0.000019</td>\n",
              "      <td>0.000095</td>\n",
              "      <td>0.000021</td>\n",
              "      <td>0.000019</td>\n",
              "      <td>0.000090</td>\n",
              "      <td>0.000073</td>\n",
              "      <td>0.000050</td>\n",
              "      <td>0.000024</td>\n",
              "      <td>0.000000</td>\n",
              "      <td>0.000012</td>\n",
              "      <td>0.000021</td>\n",
              "      <td>0.000000</td>\n",
              "      <td>0.000000</td>\n",
              "      <td>0.000002</td>\n",
              "      <td>0.000000</td>\n",
              "      <td>0.000017</td>\n",
              "      <td>0.000007</td>\n",
              "      <td>0.000002</td>\n",
              "      <td>0.000066</td>\n",
              "      <td>0.000203</td>\n",
              "      <td>0.000026</td>\n",
              "      <td>0.000002</td>\n",
              "      <td>0.000040</td>\n",
              "      <td>0.000007</td>\n",
              "      <td>0.000054</td>\n",
              "      <td>0.000045</td>\n",
              "      <td>0.000000</td>\n",
              "      <td>0.000028</td>\n",
              "      <td>0.000291</td>\n",
              "      <td>0.000033</td>\n",
              "      <td>0.000052</td>\n",
              "      <td>0.000258</td>\n",
              "      <td>0.000215</td>\n",
              "    </tr>\n",
              "    <tr>\n",
              "      <th>3</th>\n",
              "      <td>0.120431</td>\n",
              "      <td>0.013561</td>\n",
              "      <td>0.000277</td>\n",
              "      <td>0.0</td>\n",
              "      <td>0.018974</td>\n",
              "      <td>0.000913</td>\n",
              "      <td>0.0</td>\n",
              "      <td>0.000024</td>\n",
              "      <td>0.000713</td>\n",
              "      <td>0.0</td>\n",
              "      <td>0.0</td>\n",
              "      <td>0.0</td>\n",
              "      <td>0.0</td>\n",
              "      <td>0.002496</td>\n",
              "      <td>0.000149</td>\n",
              "      <td>0.0</td>\n",
              "      <td>0.000011</td>\n",
              "      <td>0.000157</td>\n",
              "      <td>0.0</td>\n",
              "      <td>0.0</td>\n",
              "      <td>0.0</td>\n",
              "      <td>0.0</td>\n",
              "      <td>0.0</td>\n",
              "      <td>0.0</td>\n",
              "      <td>0.0</td>\n",
              "      <td>0.0</td>\n",
              "      <td>0.000005</td>\n",
              "      <td>0.0</td>\n",
              "      <td>0.0</td>\n",
              "      <td>0.0</td>\n",
              "      <td>0.0</td>\n",
              "      <td>0.0</td>\n",
              "      <td>0.0</td>\n",
              "      <td>0.0</td>\n",
              "      <td>0.0</td>\n",
              "      <td>0.0</td>\n",
              "      <td>0.0</td>\n",
              "      <td>0.0</td>\n",
              "      <td>0.0</td>\n",
              "      <td>0.0</td>\n",
              "      <td>...</td>\n",
              "      <td>0.000210</td>\n",
              "      <td>0.000434</td>\n",
              "      <td>0.000543</td>\n",
              "      <td>0.000412</td>\n",
              "      <td>0.000412</td>\n",
              "      <td>0.000045</td>\n",
              "      <td>0.000003</td>\n",
              "      <td>0.000144</td>\n",
              "      <td>0.000282</td>\n",
              "      <td>0.000037</td>\n",
              "      <td>0.000197</td>\n",
              "      <td>0.000218</td>\n",
              "      <td>0.000157</td>\n",
              "      <td>0.000237</td>\n",
              "      <td>0.000021</td>\n",
              "      <td>0.000000</td>\n",
              "      <td>0.000040</td>\n",
              "      <td>0.000056</td>\n",
              "      <td>0.000008</td>\n",
              "      <td>0.000005</td>\n",
              "      <td>0.000013</td>\n",
              "      <td>0.000019</td>\n",
              "      <td>0.000168</td>\n",
              "      <td>0.000013</td>\n",
              "      <td>0.000000</td>\n",
              "      <td>0.000133</td>\n",
              "      <td>0.000202</td>\n",
              "      <td>0.000029</td>\n",
              "      <td>0.000029</td>\n",
              "      <td>0.000035</td>\n",
              "      <td>0.000059</td>\n",
              "      <td>0.001110</td>\n",
              "      <td>0.000075</td>\n",
              "      <td>0.000008</td>\n",
              "      <td>0.000333</td>\n",
              "      <td>0.000793</td>\n",
              "      <td>0.000101</td>\n",
              "      <td>0.000588</td>\n",
              "      <td>0.000503</td>\n",
              "      <td>0.000452</td>\n",
              "    </tr>\n",
              "    <tr>\n",
              "      <th>4</th>\n",
              "      <td>0.005026</td>\n",
              "      <td>0.001356</td>\n",
              "      <td>0.000055</td>\n",
              "      <td>0.0</td>\n",
              "      <td>0.000665</td>\n",
              "      <td>0.000029</td>\n",
              "      <td>0.0</td>\n",
              "      <td>0.000000</td>\n",
              "      <td>0.000024</td>\n",
              "      <td>0.0</td>\n",
              "      <td>0.0</td>\n",
              "      <td>0.0</td>\n",
              "      <td>0.0</td>\n",
              "      <td>0.000147</td>\n",
              "      <td>0.000020</td>\n",
              "      <td>0.0</td>\n",
              "      <td>0.000000</td>\n",
              "      <td>0.000000</td>\n",
              "      <td>0.0</td>\n",
              "      <td>0.0</td>\n",
              "      <td>0.0</td>\n",
              "      <td>0.0</td>\n",
              "      <td>0.0</td>\n",
              "      <td>0.0</td>\n",
              "      <td>0.0</td>\n",
              "      <td>0.0</td>\n",
              "      <td>0.000000</td>\n",
              "      <td>0.0</td>\n",
              "      <td>0.0</td>\n",
              "      <td>0.0</td>\n",
              "      <td>0.0</td>\n",
              "      <td>0.0</td>\n",
              "      <td>0.0</td>\n",
              "      <td>0.0</td>\n",
              "      <td>0.0</td>\n",
              "      <td>0.0</td>\n",
              "      <td>0.0</td>\n",
              "      <td>0.0</td>\n",
              "      <td>0.0</td>\n",
              "      <td>0.0</td>\n",
              "      <td>...</td>\n",
              "      <td>0.000160</td>\n",
              "      <td>0.000996</td>\n",
              "      <td>0.001604</td>\n",
              "      <td>0.000103</td>\n",
              "      <td>0.000768</td>\n",
              "      <td>0.000215</td>\n",
              "      <td>0.000009</td>\n",
              "      <td>0.000415</td>\n",
              "      <td>0.000926</td>\n",
              "      <td>0.000020</td>\n",
              "      <td>0.000538</td>\n",
              "      <td>0.001178</td>\n",
              "      <td>0.000050</td>\n",
              "      <td>0.000518</td>\n",
              "      <td>0.000169</td>\n",
              "      <td>0.000007</td>\n",
              "      <td>0.000134</td>\n",
              "      <td>0.000169</td>\n",
              "      <td>0.000007</td>\n",
              "      <td>0.000026</td>\n",
              "      <td>0.000046</td>\n",
              "      <td>0.000007</td>\n",
              "      <td>0.000373</td>\n",
              "      <td>0.000088</td>\n",
              "      <td>0.000000</td>\n",
              "      <td>0.000338</td>\n",
              "      <td>0.000441</td>\n",
              "      <td>0.000029</td>\n",
              "      <td>0.000070</td>\n",
              "      <td>0.000149</td>\n",
              "      <td>0.000009</td>\n",
              "      <td>0.000882</td>\n",
              "      <td>0.000200</td>\n",
              "      <td>0.000009</td>\n",
              "      <td>0.000559</td>\n",
              "      <td>0.001097</td>\n",
              "      <td>0.000018</td>\n",
              "      <td>0.000632</td>\n",
              "      <td>0.001128</td>\n",
              "      <td>0.000064</td>\n",
              "    </tr>\n",
              "  </tbody>\n",
              "</table>\n",
              "<p>5 rows × 6075 columns</p>\n",
              "</div>"
            ],
            "text/plain": [
              "       hmp1      hmp2      hmp3  hmp4  ...   hmp6072   hmp6073   hmp6074   hmp6075\n",
              "0  0.125563  0.024036  0.000314   0.0  ...  0.000000  0.000086  0.000580  0.000000\n",
              "1  0.007526  0.001421  0.000068   0.0  ...  0.000094  0.000220  0.000762  0.001224\n",
              "2  0.109584  0.018978  0.000289   0.0  ...  0.000033  0.000052  0.000258  0.000215\n",
              "3  0.120431  0.013561  0.000277   0.0  ...  0.000101  0.000588  0.000503  0.000452\n",
              "4  0.005026  0.001356  0.000055   0.0  ...  0.000018  0.000632  0.001128  0.000064\n",
              "\n",
              "[5 rows x 6075 columns]"
            ]
          },
          "metadata": {
            "tags": []
          },
          "execution_count": 39
        }
      ]
    },
    {
      "cell_type": "code",
      "metadata": {
        "id": "Jt08-xHt-8Mf",
        "colab_type": "code",
        "colab": {}
      },
      "source": [
        "hmp_array = hmp_df.values"
      ],
      "execution_count": 0,
      "outputs": []
    },
    {
      "cell_type": "code",
      "metadata": {
        "id": "zPH6b5om_Bg_",
        "colab_type": "code",
        "colab": {}
      },
      "source": [
        "X = hmp_array\n",
        "\n",
        "Y = labels[['short-term_memorability']].values\n",
        "X_train, X_test, Y_train, Y_test = train_test_split(X,Y, test_size=0.2, random_state=42)"
      ],
      "execution_count": 0,
      "outputs": []
    },
    {
      "cell_type": "code",
      "metadata": {
        "id": "UvzbwYo0_CmP",
        "colab_type": "code",
        "colab": {
          "base_uri": "https://localhost:8080/",
          "height": 34
        },
        "outputId": "517adc0f-bf55-47e6-b031-77dbe2113cc0"
      },
      "source": [
        "print(X_train.shape, X_test.shape, Y_train.shape, Y_test.shape)"
      ],
      "execution_count": 14,
      "outputs": [
        {
          "output_type": "stream",
          "text": [
            "(4800, 6075) (1200, 6075) (4800, 1) (1200, 1)\n"
          ],
          "name": "stdout"
        }
      ]
    },
    {
      "cell_type": "markdown",
      "metadata": {
        "id": "MnAB-MPvBaRz",
        "colab_type": "text"
      },
      "source": [
        "### Video Memorability - HMP Randomo Forest Regressor\n",
        "\n",
        "Short term scores\n",
        "\n"
      ]
    },
    {
      "cell_type": "code",
      "metadata": {
        "id": "qkKQ_uJS_HXv",
        "colab_type": "code",
        "colab": {
          "base_uri": "https://localhost:8080/",
          "height": 87
        },
        "outputId": "0e92dc19-f6df-49a6-d687-17d92c78f701"
      },
      "source": [
        "from sklearn.ensemble import RandomForestRegressor\n",
        "clf = RandomForestRegressor(n_estimators=1000, max_features= 5, min_samples_leaf = 4, min_samples_split= 5)\n",
        "clf.fit(X_train, Y_train)\n",
        "y_pred = clf.predict(X_test)\n",
        "Get_score(y_pred, Y_test)"
      ],
      "execution_count": 42,
      "outputs": [
        {
          "output_type": "stream",
          "text": [
            "/usr/local/lib/python3.6/dist-packages/ipykernel_launcher.py:3: DataConversionWarning: A column-vector y was passed when a 1d array was expected. Please change the shape of y to (n_samples,), for example using ravel().\n",
            "  This is separate from the ipykernel package so we can avoid doing imports until\n"
          ],
          "name": "stderr"
        },
        {
          "output_type": "stream",
          "text": [
            "The Spearman's correlation coefficient is: 0.302\n"
          ],
          "name": "stdout"
        }
      ]
    },
    {
      "cell_type": "markdown",
      "metadata": {
        "id": "V9wJIWHOBhhs",
        "colab_type": "text"
      },
      "source": [
        "MSE : 0.005596628843497854"
      ]
    },
    {
      "cell_type": "code",
      "metadata": {
        "id": "mXkt3SUBfa6C",
        "colab_type": "code",
        "colab": {
          "base_uri": "https://localhost:8080/",
          "height": 34
        },
        "outputId": "1ea78364-b6e8-47bd-f857-632c83215637"
      },
      "source": [
        "from sklearn.metrics import mean_squared_error\n",
        "mean_squared_error(Y_test, y_pred) "
      ],
      "execution_count": 45,
      "outputs": [
        {
          "output_type": "execute_result",
          "data": {
            "text/plain": [
              "0.005596628843497854"
            ]
          },
          "metadata": {
            "tags": []
          },
          "execution_count": 45
        }
      ]
    },
    {
      "cell_type": "markdown",
      "metadata": {
        "id": "jBkXPoHVBmj6",
        "colab_type": "text"
      },
      "source": [
        "Long term Scores"
      ]
    },
    {
      "cell_type": "code",
      "metadata": {
        "id": "AmGj9qVA_Kra",
        "colab_type": "code",
        "colab": {}
      },
      "source": [
        "X = hmp_array\n",
        "\n",
        "Y = labels[['long-term_memorability']].values\n",
        "X_train, X_test, Y_train, Y_test = train_test_split(X,Y, test_size=0.2, random_state=42)"
      ],
      "execution_count": 0,
      "outputs": []
    },
    {
      "cell_type": "code",
      "metadata": {
        "id": "rRwcSZN2_NoL",
        "colab_type": "code",
        "colab": {
          "base_uri": "https://localhost:8080/",
          "height": 87
        },
        "outputId": "a6a7f73d-cadd-4bbb-e4ca-db525df88bcb"
      },
      "source": [
        "from sklearn.ensemble import RandomForestRegressor\n",
        "clf = RandomForestRegressor(n_estimators=1000, max_features= 5, min_samples_leaf = 4, min_samples_split= 5)\n",
        "clf.fit(X_train, Y_train)\n",
        "y_pred = clf.predict(X_test)\n",
        "Get_score(y_pred, Y_test)"
      ],
      "execution_count": 47,
      "outputs": [
        {
          "output_type": "stream",
          "text": [
            "/usr/local/lib/python3.6/dist-packages/ipykernel_launcher.py:3: DataConversionWarning: A column-vector y was passed when a 1d array was expected. Please change the shape of y to (n_samples,), for example using ravel().\n",
            "  This is separate from the ipykernel package so we can avoid doing imports until\n"
          ],
          "name": "stderr"
        },
        {
          "output_type": "stream",
          "text": [
            "The Spearman's correlation coefficient is: 0.118\n"
          ],
          "name": "stdout"
        }
      ]
    },
    {
      "cell_type": "code",
      "metadata": {
        "id": "47WlB5q8f2pJ",
        "colab_type": "code",
        "colab": {
          "base_uri": "https://localhost:8080/",
          "height": 34
        },
        "outputId": "95dc7287-aae1-404e-fe67-7a7e76d32459"
      },
      "source": [
        "from sklearn.metrics import mean_squared_error\n",
        "mean_squared_error(Y_test, y_pred) "
      ],
      "execution_count": 48,
      "outputs": [
        {
          "output_type": "execute_result",
          "data": {
            "text/plain": [
              "0.021530176798856833"
            ]
          },
          "metadata": {
            "tags": []
          },
          "execution_count": 48
        }
      ]
    },
    {
      "cell_type": "markdown",
      "metadata": {
        "id": "4sUf3NRGBtIB",
        "colab_type": "text"
      },
      "source": [
        "### Perfomr PCA to reduce dimensions"
      ]
    },
    {
      "cell_type": "code",
      "metadata": {
        "id": "4MQu_19H_bX9",
        "colab_type": "code",
        "colab": {
          "base_uri": "https://localhost:8080/",
          "height": 34
        },
        "outputId": "f0141a5a-e2de-4bfc-c557-ba575cfb7271"
      },
      "source": [
        "from sklearn.preprocessing import StandardScaler\n",
        "scaler = StandardScaler()\n",
        "scaler.fit(X_PCA_train)\n",
        "X_PCA_train = scaler.transform(X_PCA_train)\n",
        "X_PCA_test = scaler.transform(X_PCA_test)\n",
        "from sklearn.decomposition import PCA\n",
        "pca = PCA(.95)\n",
        "pca.fit(X_PCA_train)\n",
        "pca.n_components_"
      ],
      "execution_count": 19,
      "outputs": [
        {
          "output_type": "execute_result",
          "data": {
            "text/plain": [
              "1360"
            ]
          },
          "metadata": {
            "tags": []
          },
          "execution_count": 19
        }
      ]
    },
    {
      "cell_type": "code",
      "metadata": {
        "id": "2t2skrBt_R5L",
        "colab_type": "code",
        "colab": {}
      },
      "source": [
        "X_PCA_train, X_PCA_test, Y_PCA_train, Y_PCA_test = train_test_split(hmp_array, Y,  test_size= 0.2, random_state=42)"
      ],
      "execution_count": 0,
      "outputs": []
    },
    {
      "cell_type": "code",
      "metadata": {
        "id": "Q29g3C4z_edj",
        "colab_type": "code",
        "colab": {}
      },
      "source": [
        "X_PCA_train = pca.transform(X_PCA_train)\n",
        "X_PCA_test = pca.transform(X_PCA_test)"
      ],
      "execution_count": 0,
      "outputs": []
    },
    {
      "cell_type": "code",
      "metadata": {
        "id": "AX5b2Unb_kO2",
        "colab_type": "code",
        "colab": {
          "base_uri": "https://localhost:8080/",
          "height": 87
        },
        "outputId": "6d91bce3-693f-47de-c788-62cdc7f648a6"
      },
      "source": [
        "from sklearn.ensemble import RandomForestRegressor\n",
        "clf = RandomForestRegressor(n_estimators=1000, max_features= 5, min_samples_leaf = 3, min_samples_split= 8)\n",
        "clf.fit(X_PCA_train, Y_train)\n",
        "y_pred = clf.predict(X_PCA_test)\n",
        "Get_score(y_pred, Y_test)"
      ],
      "execution_count": 21,
      "outputs": [
        {
          "output_type": "stream",
          "text": [
            "/usr/local/lib/python3.6/dist-packages/ipykernel_launcher.py:3: DataConversionWarning: A column-vector y was passed when a 1d array was expected. Please change the shape of y to (n_samples,), for example using ravel().\n",
            "  This is separate from the ipykernel package so we can avoid doing imports until\n"
          ],
          "name": "stderr"
        },
        {
          "output_type": "stream",
          "text": [
            "The Spearman's correlation coefficient is: 0.070\n"
          ],
          "name": "stdout"
        }
      ]
    },
    {
      "cell_type": "markdown",
      "metadata": {
        "id": "2_V7nxgTB0gt",
        "colab_type": "text"
      },
      "source": [
        "### Read C3D from shared drive and save it in local drive"
      ]
    },
    {
      "cell_type": "code",
      "metadata": {
        "id": "ki5zgotLvXK5",
        "colab_type": "code",
        "colab": {}
      },
      "source": [
        "''' Method to read c3d'''\n",
        "def read_c3d(fpath, fname, c3d_map):\n",
        "  with open(fpath) as f:\n",
        "    value_list = []\n",
        "    for line in f:\n",
        "      pairs=line.split(' ')\n",
        "      for value in pairs:\n",
        "        value_list.append(value)\n",
        "    c3d_map[fname] = value_list"
      ],
      "execution_count": 0,
      "outputs": []
    },
    {
      "cell_type": "code",
      "metadata": {
        "id": "rSmBj3oZvluM",
        "colab_type": "code",
        "colab": {}
      },
      "source": [
        "video_list = []\n",
        "for i in range(1, 7494):\n",
        "  name = 'video' + str(i)\n",
        "  filename = name + '.txt'\n",
        "  file_path = './Assignment/Dev-set/C3D/' + filename\n",
        "  if(os.path.exists(file_path)):\n",
        "    video_list.append(name)"
      ],
      "execution_count": 0,
      "outputs": []
    },
    {
      "cell_type": "code",
      "metadata": {
        "id": "lRmrQl-cvyJi",
        "colab_type": "code",
        "colab": {}
      },
      "source": [
        "c3d_map = {}\n",
        "#hmp_arr = np.empty((0,6075), float)\n",
        "# load the captions\n",
        "for filename in video_list:\n",
        "  filename = filename + '.txt'\n",
        "  file_path = './Assignment/Dev-set/C3D/' + filename\n",
        "  read_c3d(file_path, filename, c3d_map)"
      ],
      "execution_count": 0,
      "outputs": []
    },
    {
      "cell_type": "code",
      "metadata": {
        "id": "bzdg5rP8v41t",
        "colab_type": "code",
        "colab": {}
      },
      "source": [
        "c3d_df = pd.DataFrame.from_dict(c3d_map,  orient='index')"
      ],
      "execution_count": 0,
      "outputs": []
    },
    {
      "cell_type": "code",
      "metadata": {
        "id": "j-tSnHwD9lWn",
        "colab_type": "code",
        "colab": {}
      },
      "source": [
        "c3d_df.head()"
      ],
      "execution_count": 0,
      "outputs": []
    },
    {
      "cell_type": "code",
      "metadata": {
        "id": "8zpYoVao9epw",
        "colab_type": "code",
        "colab": {}
      },
      "source": [
        "c3d_df.to_csv('/content/drive/My Drive/c3d_df.csv')"
      ],
      "execution_count": 0,
      "outputs": []
    },
    {
      "cell_type": "markdown",
      "metadata": {
        "id": "MG14vU7C7Heh",
        "colab_type": "text"
      },
      "source": [
        "### **C3D - Train models for video memorability**"
      ]
    },
    {
      "cell_type": "code",
      "metadata": {
        "id": "LSYv_LD2lT_2",
        "colab_type": "code",
        "colab": {}
      },
      "source": [
        "c3d_df = pd.read_csv('c3d_df.csv')"
      ],
      "execution_count": 0,
      "outputs": []
    },
    {
      "cell_type": "code",
      "metadata": {
        "id": "GSiLOiYDlkMo",
        "colab_type": "code",
        "colab": {}
      },
      "source": [
        "c3d_df = c3d_df.iloc[:, 1:-1]"
      ],
      "execution_count": 0,
      "outputs": []
    },
    {
      "cell_type": "code",
      "metadata": {
        "id": "-ZKtQHshlaMj",
        "colab_type": "code",
        "colab": {}
      },
      "source": [
        "c3d_df.head()"
      ],
      "execution_count": 0,
      "outputs": []
    },
    {
      "cell_type": "code",
      "metadata": {
        "id": "1-7l6pYNluLw",
        "colab_type": "code",
        "colab": {}
      },
      "source": [
        "c3d_arr  = c3d_df.values"
      ],
      "execution_count": 0,
      "outputs": []
    },
    {
      "cell_type": "code",
      "metadata": {
        "id": "Xey1_Fv2mEJA",
        "colab_type": "code",
        "colab": {}
      },
      "source": [
        ""
      ],
      "execution_count": 0,
      "outputs": []
    },
    {
      "cell_type": "markdown",
      "metadata": {
        "id": "S6Nqfz4v7f9Z",
        "colab_type": "text"
      },
      "source": [
        "### Video Memorability - C3D\n",
        "\n",
        "Short-term memorability Score\n",
        "\n",
        "\n"
      ]
    },
    {
      "cell_type": "code",
      "metadata": {
        "id": "ZYn2waEPlytz",
        "colab_type": "code",
        "colab": {}
      },
      "source": [
        "X = c3d_arr\n",
        "#Y = labels[['short-term_memorability','long-term_memorability']].values\n",
        "Y = labels[['short-term_memorability']].values\n",
        "\n",
        "X_train, X_test, Y_train, Y_test = train_test_split(X, Y, test_size=0.2, random_state=42)"
      ],
      "execution_count": 0,
      "outputs": []
    },
    {
      "cell_type": "code",
      "metadata": {
        "id": "ZIYWC6qt8Akr",
        "colab_type": "code",
        "colab": {
          "base_uri": "https://localhost:8080/",
          "height": 87
        },
        "outputId": "4e116266-d8f2-4fb0-c648-708f0afcd0e8"
      },
      "source": [
        "from sklearn.ensemble import RandomForestRegressor\n",
        "clf = RandomForestRegressor(n_estimators = 2000, max_features= 4, min_samples_leaf = 5, min_samples_split= 8)\n",
        "clf.fit(X_train, Y_train)\n",
        "y_pred = clf.predict(X_test)\n",
        "Get_score(y_pred, Y_test)"
      ],
      "execution_count": 53,
      "outputs": [
        {
          "output_type": "stream",
          "text": [
            "/usr/local/lib/python3.6/dist-packages/ipykernel_launcher.py:3: DataConversionWarning: A column-vector y was passed when a 1d array was expected. Please change the shape of y to (n_samples,), for example using ravel().\n",
            "  This is separate from the ipykernel package so we can avoid doing imports until\n"
          ],
          "name": "stderr"
        },
        {
          "output_type": "stream",
          "text": [
            "The Spearman's correlation coefficient is: 0.332\n"
          ],
          "name": "stdout"
        }
      ]
    },
    {
      "cell_type": "code",
      "metadata": {
        "id": "W8PzZOqCgJVH",
        "colab_type": "code",
        "colab": {
          "base_uri": "https://localhost:8080/",
          "height": 34
        },
        "outputId": "dcbe6ad2-536d-4fd4-853d-03eb37e0b680"
      },
      "source": [
        "from sklearn.metrics import mean_squared_error\n",
        "mean_squared_error(Y_test, y_pred) "
      ],
      "execution_count": 54,
      "outputs": [
        {
          "output_type": "execute_result",
          "data": {
            "text/plain": [
              "0.005469710068597566"
            ]
          },
          "metadata": {
            "tags": []
          },
          "execution_count": 54
        }
      ]
    },
    {
      "cell_type": "markdown",
      "metadata": {
        "id": "PsBsJHLm8Gcd",
        "colab_type": "text"
      },
      "source": [
        "Long-term memorability score"
      ]
    },
    {
      "cell_type": "code",
      "metadata": {
        "id": "V_hmJBDWgE0s",
        "colab_type": "code",
        "colab": {}
      },
      "source": [
        "0.021530176798856833"
      ],
      "execution_count": 0,
      "outputs": []
    },
    {
      "cell_type": "code",
      "metadata": {
        "id": "fEGSIsLP7-HX",
        "colab_type": "code",
        "colab": {}
      },
      "source": [
        "X = c3d_arr\n",
        "#Y = labels[['short-term_memorability','long-term_memorability']].values\n",
        "Y = labels[['long-term_memorability']].values\n",
        "\n",
        "X_train, X_test, Y_train, Y_test = train_test_split(X, Y, test_size=0.2, random_state=42)"
      ],
      "execution_count": 0,
      "outputs": []
    },
    {
      "cell_type": "code",
      "metadata": {
        "id": "NS6UyNi8l4qG",
        "colab_type": "code",
        "outputId": "a172771a-6a3c-4176-ba5a-3ac926b55010",
        "colab": {
          "base_uri": "https://localhost:8080/",
          "height": 87
        }
      },
      "source": [
        "from sklearn.ensemble import RandomForestRegressor\n",
        "clf = RandomForestRegressor(n_estimators = 2000, max_features= 4, min_samples_leaf = 5, min_samples_split= 8)\n",
        "clf.fit(X_train, Y_train)\n",
        "y_pred = clf.predict(X_test)\n",
        "Get_score(y_pred, Y_test)"
      ],
      "execution_count": 56,
      "outputs": [
        {
          "output_type": "stream",
          "text": [
            "/usr/local/lib/python3.6/dist-packages/ipykernel_launcher.py:3: DataConversionWarning: A column-vector y was passed when a 1d array was expected. Please change the shape of y to (n_samples,), for example using ravel().\n",
            "  This is separate from the ipykernel package so we can avoid doing imports until\n"
          ],
          "name": "stderr"
        },
        {
          "output_type": "stream",
          "text": [
            "The Spearman's correlation coefficient is: 0.145\n"
          ],
          "name": "stdout"
        }
      ]
    },
    {
      "cell_type": "code",
      "metadata": {
        "id": "3xpl336vgWff",
        "colab_type": "code",
        "colab": {
          "base_uri": "https://localhost:8080/",
          "height": 34
        },
        "outputId": "5904481d-1e30-4438-a149-5b55dd653424"
      },
      "source": [
        "from sklearn.metrics import mean_squared_error\n",
        "mean_squared_error(Y_test, y_pred) "
      ],
      "execution_count": 57,
      "outputs": [
        {
          "output_type": "execute_result",
          "data": {
            "text/plain": [
              "0.021379138059125096"
            ]
          },
          "metadata": {
            "tags": []
          },
          "execution_count": 57
        }
      ]
    },
    {
      "cell_type": "markdown",
      "metadata": {
        "id": "hSxf7SFcA39_",
        "colab_type": "text"
      },
      "source": [
        "### C3D + HMP - video memorability"
      ]
    },
    {
      "cell_type": "code",
      "metadata": {
        "id": "pl993wZCArJk",
        "colab_type": "code",
        "colab": {}
      },
      "source": [
        "hmp_c3d = np.concatenate((c3d_arr, hmp_array), axis=1)"
      ],
      "execution_count": 0,
      "outputs": []
    },
    {
      "cell_type": "code",
      "metadata": {
        "id": "KcSTU-LuAx6h",
        "colab_type": "code",
        "colab": {}
      },
      "source": [
        "X = hmp_c3d\n",
        "#Y = labels[['short-term_memorability','long-term_memorability']].values\n",
        "Y = labels[['long-term_memorability']].values\n",
        "\n",
        "X_train, X_test, Y_train, Y_test = train_test_split(X, Y, test_size=0.2, random_state=42)"
      ],
      "execution_count": 0,
      "outputs": []
    },
    {
      "cell_type": "code",
      "metadata": {
        "id": "EdRPD4NyAyiR",
        "colab_type": "code",
        "colab": {
          "base_uri": "https://localhost:8080/",
          "height": 87
        },
        "outputId": "7b02ab0b-89cb-487c-9e10-d1b798247392"
      },
      "source": [
        "from sklearn.ensemble import RandomForestRegressor\n",
        "clf = RandomForestRegressor(n_estimators = 2000, max_features= 4, min_samples_leaf = 5, min_samples_split= 8)\n",
        "clf.fit(X_train, Y_train)\n",
        "y_pred = clf.predict(X_test)\n",
        "Get_score(y_pred, Y_test)"
      ],
      "execution_count": 60,
      "outputs": [
        {
          "output_type": "stream",
          "text": [
            "/usr/local/lib/python3.6/dist-packages/ipykernel_launcher.py:3: DataConversionWarning: A column-vector y was passed when a 1d array was expected. Please change the shape of y to (n_samples,), for example using ravel().\n",
            "  This is separate from the ipykernel package so we can avoid doing imports until\n"
          ],
          "name": "stderr"
        },
        {
          "output_type": "stream",
          "text": [
            "The Spearman's correlation coefficient is: 0.130\n"
          ],
          "name": "stdout"
        }
      ]
    },
    {
      "cell_type": "code",
      "metadata": {
        "id": "ylWD3z11gmWk",
        "colab_type": "code",
        "colab": {
          "base_uri": "https://localhost:8080/",
          "height": 34
        },
        "outputId": "4894f41d-da12-40ed-ec23-c7201cad8498"
      },
      "source": [
        "mean_squared_error(Y_test, y_pred) "
      ],
      "execution_count": 61,
      "outputs": [
        {
          "output_type": "execute_result",
          "data": {
            "text/plain": [
              "0.021457148513859534"
            ]
          },
          "metadata": {
            "tags": []
          },
          "execution_count": 61
        }
      ]
    },
    {
      "cell_type": "code",
      "metadata": {
        "id": "fcec2XSCA2BT",
        "colab_type": "code",
        "colab": {}
      },
      "source": [
        "X = hmp_c3d\n",
        "#Y = labels[['short-term_memorability','long-term_memorability']].values\n",
        "Y = labels[['short-term_memorability']].values\n",
        "\n",
        "X_train, X_test, Y_train, Y_test = train_test_split(X, Y, test_size=0.2, random_state=42)"
      ],
      "execution_count": 0,
      "outputs": []
    },
    {
      "cell_type": "code",
      "metadata": {
        "id": "ErDm49P1A35Z",
        "colab_type": "code",
        "colab": {
          "base_uri": "https://localhost:8080/",
          "height": 87
        },
        "outputId": "8fef4bfc-45d0-43be-ac5f-7d97a71202a4"
      },
      "source": [
        "from sklearn.ensemble import RandomForestRegressor\n",
        "clf = RandomForestRegressor(n_estimators = 2000, max_features= 4, min_samples_leaf = 5, min_samples_split= 8)\n",
        "clf.fit(X_train, Y_train)\n",
        "y_pred = clf.predict(X_test)\n",
        "Get_score(y_pred, Y_test)\n"
      ],
      "execution_count": 63,
      "outputs": [
        {
          "output_type": "stream",
          "text": [
            "/usr/local/lib/python3.6/dist-packages/ipykernel_launcher.py:3: DataConversionWarning: A column-vector y was passed when a 1d array was expected. Please change the shape of y to (n_samples,), for example using ravel().\n",
            "  This is separate from the ipykernel package so we can avoid doing imports until\n"
          ],
          "name": "stderr"
        },
        {
          "output_type": "stream",
          "text": [
            "The Spearman's correlation coefficient is: 0.308\n"
          ],
          "name": "stdout"
        }
      ]
    },
    {
      "cell_type": "code",
      "metadata": {
        "id": "7BNNu3E0gzih",
        "colab_type": "code",
        "colab": {
          "base_uri": "https://localhost:8080/",
          "height": 34
        },
        "outputId": "d945d633-690e-4372-ced0-30883c93ddf1"
      },
      "source": [
        "mean_squared_error(Y_test, y_pred) "
      ],
      "execution_count": 64,
      "outputs": [
        {
          "output_type": "execute_result",
          "data": {
            "text/plain": [
              "0.005593858374323793"
            ]
          },
          "metadata": {
            "tags": []
          },
          "execution_count": 64
        }
      ]
    }
  ]
}